{
 "cells": [
  {
   "cell_type": "code",
   "execution_count": 12,
   "id": "63a5e974-1a17-408f-9ca7-f79764f960bc",
   "metadata": {},
   "outputs": [
    {
     "name": "stdout",
     "output_type": "stream",
     "text": [
      "📡 Scraping: @Shageronlinestore\n",
      "✅ Done with @Shageronlinestore\n",
      "📡 Scraping: @nevacomputer\n",
      "✅ Done with @nevacomputer\n",
      "📡 Scraping: @ethio_brand_collection\n",
      "✅ Done with @ethio_brand_collection\n",
      "📡 Scraping: @Leyueqa\n",
      "✅ Done with @Leyueqa\n",
      "📡 Scraping: @sinayelj\n",
      "✅ Done with @sinayelj\n"
     ]
    },
    {
     "name": "stderr",
     "output_type": "stream",
     "text": [
      "Cannot get difference since the account is likely misusing the session: database is locked\n",
      "Unhandled exception from keepalive_handle after cancelling <class '_asyncio.Task'> (<Task finished name='Task-49' coro=<UpdateMethods._keepalive_loop() done, defined at C:\\Users\\Lenovo\\AppData\\Local\\Programs\\Python\\Python313\\Lib\\site-packages\\telethon\\client\\updates.py:481> exception=OperationalError('database is locked')>)\n",
      "Traceback (most recent call last):\n",
      "  File \"C:\\Users\\Lenovo\\AppData\\Local\\Programs\\Python\\Python313\\Lib\\site-packages\\telethon\\helpers.py\", line 176, in _cancel\n",
      "    await task\n",
      "  File \"C:\\Users\\Lenovo\\AppData\\Local\\Programs\\Python\\Python313\\Lib\\site-packages\\telethon\\client\\updates.py\", line 517, in _keepalive_loop\n",
      "    self._save_states_and_entities()\n",
      "    ~~~~~~~~~~~~~~~~~~~~~~~~~~~~~~^^\n",
      "  File \"C:\\Users\\Lenovo\\AppData\\Local\\Programs\\Python\\Python313\\Lib\\site-packages\\telethon\\client\\telegrambaseclient.py\", line 694, in _save_states_and_entities\n",
      "    self.session.process_entities(types.contacts.ResolvedPeer(None, [e._as_input_peer() for e in entities], []))\n",
      "    ~~~~~~~~~~~~~~~~~~~~~~~~~~~~~^^^^^^^^^^^^^^^^^^^^^^^^^^^^^^^^^^^^^^^^^^^^^^^^^^^^^^^^^^^^^^^^^^^^^^^^^^^^^^^\n",
      "  File \"C:\\Users\\Lenovo\\AppData\\Local\\Programs\\Python\\Python313\\Lib\\site-packages\\telethon\\sessions\\sqlite.py\", line 301, in process_entities\n",
      "    c.executemany(\n",
      "    ~~~~~~~~~~~~~^\n",
      "        'insert or replace into entities values (?,?,?,?,?,?)', rows)\n",
      "        ^^^^^^^^^^^^^^^^^^^^^^^^^^^^^^^^^^^^^^^^^^^^^^^^^^^^^^^^^^^^^\n",
      "sqlite3.OperationalError: database is locked\n"
     ]
    }
   ],
   "source": [
    "import sys\n",
    "import os\n",
    "import importlib\n",
    "sys.path.append(os.path.abspath(\"..\"))\n",
    "import src.telegram_scraper\n",
    "importlib.reload(src.telegram_scraper)\n",
    "from src.telegram_scraper import TelegramScraper\n",
    "\n",
    "import asyncio\n",
    "\n",
    "\n",
    "\n",
    "\n",
    "# Create an instance and run\n",
    "scraper = TelegramScraper()\n",
    "# 📝 Define the list of e-commerce Telegram channels (add or modify as needed)\n",
    "channels = [\n",
    "    '@Shageronlinestore',\n",
    "    '@nevacomputer',\n",
    "    '@ethio_brand_collection',\n",
    "    '@Leyueqa',\n",
    "    '@sinayelj'\n",
    "]\n",
    "PHOTO_LIMIT = 300\n",
    "\n",
    "async def run_scraping():\n",
    "    for channel in channels:\n",
    "        print(f\"📡 Scraping: {channel}\")\n",
    "        await scraper.connect()\n",
    "        await scraper.scrape_channel(channel, writer=None, json_list=[], max_photos=PHOTO_LIMIT)\n",
    "        print(f\"✅ Done with {channel}\")\n",
    "\n",
    "await run_scraping()\n"
   ]
  },
  {
   "cell_type": "code",
   "execution_count": null,
   "id": "835a8d36-f821-4d7b-b215-55947b3bdb40",
   "metadata": {},
   "outputs": [],
   "source": []
  }
 ],
 "metadata": {
  "kernelspec": {
   "display_name": "Python 3 (ipykernel)",
   "language": "python",
   "name": "python3"
  },
  "language_info": {
   "codemirror_mode": {
    "name": "ipython",
    "version": 3
   },
   "file_extension": ".py",
   "mimetype": "text/x-python",
   "name": "python",
   "nbconvert_exporter": "python",
   "pygments_lexer": "ipython3",
   "version": "3.13.0"
  }
 },
 "nbformat": 4,
 "nbformat_minor": 5
}
